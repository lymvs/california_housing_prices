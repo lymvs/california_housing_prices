{
 "cells": [
  {
   "cell_type": "markdown",
   "metadata": {},
   "source": [
    "### Import libraries"
   ]
  },
  {
   "cell_type": "code",
   "execution_count": 1,
   "metadata": {},
   "outputs": [],
   "source": [
    "import pandas as pd\n",
    "import seaborn as sns\n",
    "import matplotlib.pyplot as plt"
   ]
  },
  {
   "cell_type": "markdown",
   "metadata": {},
   "source": [
    "### Read California housing prices csv"
   ]
  },
  {
   "cell_type": "code",
   "execution_count": 2,
   "metadata": {},
   "outputs": [],
   "source": [
    "data = pd.read_csv(\"/workspaces/california_housing_prices/data/housing.csv\")"
   ]
  },
  {
   "cell_type": "code",
   "execution_count": 5,
   "metadata": {},
   "outputs": [
    {
     "data": {
      "text/html": [
       "<div>\n",
       "<style scoped>\n",
       "    .dataframe tbody tr th:only-of-type {\n",
       "        vertical-align: middle;\n",
       "    }\n",
       "\n",
       "    .dataframe tbody tr th {\n",
       "        vertical-align: top;\n",
       "    }\n",
       "\n",
       "    .dataframe thead th {\n",
       "        text-align: right;\n",
       "    }\n",
       "</style>\n",
       "<table border=\"1\" class=\"dataframe\">\n",
       "  <thead>\n",
       "    <tr style=\"text-align: right;\">\n",
       "      <th></th>\n",
       "      <th>longitude</th>\n",
       "      <th>latitude</th>\n",
       "      <th>housing_median_age</th>\n",
       "      <th>total_rooms</th>\n",
       "      <th>total_bedrooms</th>\n",
       "      <th>population</th>\n",
       "      <th>households</th>\n",
       "      <th>median_income</th>\n",
       "      <th>median_house_value</th>\n",
       "      <th>ocean_proximity</th>\n",
       "    </tr>\n",
       "  </thead>\n",
       "  <tbody>\n",
       "    <tr>\n",
       "      <th>0</th>\n",
       "      <td>-122.23</td>\n",
       "      <td>37.88</td>\n",
       "      <td>41.0</td>\n",
       "      <td>880.0</td>\n",
       "      <td>129.0</td>\n",
       "      <td>322.0</td>\n",
       "      <td>126.0</td>\n",
       "      <td>8.3252</td>\n",
       "      <td>452600.0</td>\n",
       "      <td>NEAR BAY</td>\n",
       "    </tr>\n",
       "    <tr>\n",
       "      <th>1</th>\n",
       "      <td>-122.22</td>\n",
       "      <td>37.86</td>\n",
       "      <td>21.0</td>\n",
       "      <td>7099.0</td>\n",
       "      <td>1106.0</td>\n",
       "      <td>2401.0</td>\n",
       "      <td>1138.0</td>\n",
       "      <td>8.3014</td>\n",
       "      <td>358500.0</td>\n",
       "      <td>NEAR BAY</td>\n",
       "    </tr>\n",
       "    <tr>\n",
       "      <th>2</th>\n",
       "      <td>-122.24</td>\n",
       "      <td>37.85</td>\n",
       "      <td>52.0</td>\n",
       "      <td>1467.0</td>\n",
       "      <td>190.0</td>\n",
       "      <td>496.0</td>\n",
       "      <td>177.0</td>\n",
       "      <td>7.2574</td>\n",
       "      <td>352100.0</td>\n",
       "      <td>NEAR BAY</td>\n",
       "    </tr>\n",
       "    <tr>\n",
       "      <th>3</th>\n",
       "      <td>-122.25</td>\n",
       "      <td>37.85</td>\n",
       "      <td>52.0</td>\n",
       "      <td>1274.0</td>\n",
       "      <td>235.0</td>\n",
       "      <td>558.0</td>\n",
       "      <td>219.0</td>\n",
       "      <td>5.6431</td>\n",
       "      <td>341300.0</td>\n",
       "      <td>NEAR BAY</td>\n",
       "    </tr>\n",
       "    <tr>\n",
       "      <th>4</th>\n",
       "      <td>-122.25</td>\n",
       "      <td>37.85</td>\n",
       "      <td>52.0</td>\n",
       "      <td>1627.0</td>\n",
       "      <td>280.0</td>\n",
       "      <td>565.0</td>\n",
       "      <td>259.0</td>\n",
       "      <td>3.8462</td>\n",
       "      <td>342200.0</td>\n",
       "      <td>NEAR BAY</td>\n",
       "    </tr>\n",
       "  </tbody>\n",
       "</table>\n",
       "</div>"
      ],
      "text/plain": [
       "   longitude  latitude  housing_median_age  total_rooms  total_bedrooms  \\\n",
       "0    -122.23     37.88                41.0        880.0           129.0   \n",
       "1    -122.22     37.86                21.0       7099.0          1106.0   \n",
       "2    -122.24     37.85                52.0       1467.0           190.0   \n",
       "3    -122.25     37.85                52.0       1274.0           235.0   \n",
       "4    -122.25     37.85                52.0       1627.0           280.0   \n",
       "\n",
       "   population  households  median_income  median_house_value ocean_proximity  \n",
       "0       322.0       126.0         8.3252            452600.0        NEAR BAY  \n",
       "1      2401.0      1138.0         8.3014            358500.0        NEAR BAY  \n",
       "2       496.0       177.0         7.2574            352100.0        NEAR BAY  \n",
       "3       558.0       219.0         5.6431            341300.0        NEAR BAY  \n",
       "4       565.0       259.0         3.8462            342200.0        NEAR BAY  "
      ]
     },
     "execution_count": 5,
     "metadata": {},
     "output_type": "execute_result"
    }
   ],
   "source": [
    "data.head()"
   ]
  },
  {
   "cell_type": "markdown",
   "metadata": {},
   "source": [
    "### Describe dataset"
   ]
  },
  {
   "cell_type": "markdown",
   "metadata": {},
   "source": [
    "There are missing data only for **total_bedrooms** column"
   ]
  },
  {
   "cell_type": "code",
   "execution_count": 3,
   "metadata": {},
   "outputs": [
    {
     "name": "stdout",
     "output_type": "stream",
     "text": [
      "<class 'pandas.core.frame.DataFrame'>\n",
      "RangeIndex: 20640 entries, 0 to 20639\n",
      "Data columns (total 10 columns):\n",
      " #   Column              Non-Null Count  Dtype  \n",
      "---  ------              --------------  -----  \n",
      " 0   longitude           20640 non-null  float64\n",
      " 1   latitude            20640 non-null  float64\n",
      " 2   housing_median_age  20640 non-null  float64\n",
      " 3   total_rooms         20640 non-null  float64\n",
      " 4   total_bedrooms      20433 non-null  float64\n",
      " 5   population          20640 non-null  float64\n",
      " 6   households          20640 non-null  float64\n",
      " 7   median_income       20640 non-null  float64\n",
      " 8   median_house_value  20640 non-null  float64\n",
      " 9   ocean_proximity     20640 non-null  object \n",
      "dtypes: float64(9), object(1)\n",
      "memory usage: 1.6+ MB\n"
     ]
    }
   ],
   "source": [
    "data.info()"
   ]
  },
  {
   "cell_type": "code",
   "execution_count": 4,
   "metadata": {},
   "outputs": [
    {
     "data": {
      "text/plain": [
       "longitude               844\n",
       "latitude                862\n",
       "housing_median_age       52\n",
       "total_rooms            5926\n",
       "total_bedrooms         1923\n",
       "population             3888\n",
       "households             1815\n",
       "median_income         12928\n",
       "median_house_value     3842\n",
       "ocean_proximity           5\n",
       "dtype: int64"
      ]
     },
     "execution_count": 4,
     "metadata": {},
     "output_type": "execute_result"
    }
   ],
   "source": [
    "data.nunique()"
   ]
  },
  {
   "cell_type": "code",
   "execution_count": 8,
   "metadata": {},
   "outputs": [
    {
     "data": {
      "text/html": [
       "<div>\n",
       "<style scoped>\n",
       "    .dataframe tbody tr th:only-of-type {\n",
       "        vertical-align: middle;\n",
       "    }\n",
       "\n",
       "    .dataframe tbody tr th {\n",
       "        vertical-align: top;\n",
       "    }\n",
       "\n",
       "    .dataframe thead th {\n",
       "        text-align: right;\n",
       "    }\n",
       "</style>\n",
       "<table border=\"1\" class=\"dataframe\">\n",
       "  <thead>\n",
       "    <tr style=\"text-align: right;\">\n",
       "      <th></th>\n",
       "      <th>count</th>\n",
       "      <th>mean</th>\n",
       "      <th>std</th>\n",
       "      <th>min</th>\n",
       "      <th>25%</th>\n",
       "      <th>50%</th>\n",
       "      <th>75%</th>\n",
       "      <th>max</th>\n",
       "    </tr>\n",
       "  </thead>\n",
       "  <tbody>\n",
       "    <tr>\n",
       "      <th>longitude</th>\n",
       "      <td>20,640.00</td>\n",
       "      <td>-119.57</td>\n",
       "      <td>2.00</td>\n",
       "      <td>-124.35</td>\n",
       "      <td>-121.80</td>\n",
       "      <td>-118.49</td>\n",
       "      <td>-118.01</td>\n",
       "      <td>-114.31</td>\n",
       "    </tr>\n",
       "    <tr>\n",
       "      <th>latitude</th>\n",
       "      <td>20,640.00</td>\n",
       "      <td>35.63</td>\n",
       "      <td>2.14</td>\n",
       "      <td>32.54</td>\n",
       "      <td>33.93</td>\n",
       "      <td>34.26</td>\n",
       "      <td>37.71</td>\n",
       "      <td>41.95</td>\n",
       "    </tr>\n",
       "    <tr>\n",
       "      <th>housing_median_age</th>\n",
       "      <td>20,640.00</td>\n",
       "      <td>28.64</td>\n",
       "      <td>12.59</td>\n",
       "      <td>1.00</td>\n",
       "      <td>18.00</td>\n",
       "      <td>29.00</td>\n",
       "      <td>37.00</td>\n",
       "      <td>52.00</td>\n",
       "    </tr>\n",
       "    <tr>\n",
       "      <th>total_rooms</th>\n",
       "      <td>20,640.00</td>\n",
       "      <td>2,635.76</td>\n",
       "      <td>2,181.62</td>\n",
       "      <td>2.00</td>\n",
       "      <td>1,447.75</td>\n",
       "      <td>2,127.00</td>\n",
       "      <td>3,148.00</td>\n",
       "      <td>39,320.00</td>\n",
       "    </tr>\n",
       "    <tr>\n",
       "      <th>total_bedrooms</th>\n",
       "      <td>20,433.00</td>\n",
       "      <td>537.87</td>\n",
       "      <td>421.39</td>\n",
       "      <td>1.00</td>\n",
       "      <td>296.00</td>\n",
       "      <td>435.00</td>\n",
       "      <td>647.00</td>\n",
       "      <td>6,445.00</td>\n",
       "    </tr>\n",
       "    <tr>\n",
       "      <th>population</th>\n",
       "      <td>20,640.00</td>\n",
       "      <td>1,425.48</td>\n",
       "      <td>1,132.46</td>\n",
       "      <td>3.00</td>\n",
       "      <td>787.00</td>\n",
       "      <td>1,166.00</td>\n",
       "      <td>1,725.00</td>\n",
       "      <td>35,682.00</td>\n",
       "    </tr>\n",
       "    <tr>\n",
       "      <th>households</th>\n",
       "      <td>20,640.00</td>\n",
       "      <td>499.54</td>\n",
       "      <td>382.33</td>\n",
       "      <td>1.00</td>\n",
       "      <td>280.00</td>\n",
       "      <td>409.00</td>\n",
       "      <td>605.00</td>\n",
       "      <td>6,082.00</td>\n",
       "    </tr>\n",
       "    <tr>\n",
       "      <th>median_income</th>\n",
       "      <td>20,640.00</td>\n",
       "      <td>3.87</td>\n",
       "      <td>1.90</td>\n",
       "      <td>0.50</td>\n",
       "      <td>2.56</td>\n",
       "      <td>3.53</td>\n",
       "      <td>4.74</td>\n",
       "      <td>15.00</td>\n",
       "    </tr>\n",
       "    <tr>\n",
       "      <th>median_house_value</th>\n",
       "      <td>20,640.00</td>\n",
       "      <td>206,855.82</td>\n",
       "      <td>115,395.62</td>\n",
       "      <td>14,999.00</td>\n",
       "      <td>119,600.00</td>\n",
       "      <td>179,700.00</td>\n",
       "      <td>264,725.00</td>\n",
       "      <td>500,001.00</td>\n",
       "    </tr>\n",
       "  </tbody>\n",
       "</table>\n",
       "</div>"
      ],
      "text/plain": [
       "                        count        mean         std        min         25%  \\\n",
       "longitude           20,640.00     -119.57        2.00    -124.35     -121.80   \n",
       "latitude            20,640.00       35.63        2.14      32.54       33.93   \n",
       "housing_median_age  20,640.00       28.64       12.59       1.00       18.00   \n",
       "total_rooms         20,640.00    2,635.76    2,181.62       2.00    1,447.75   \n",
       "total_bedrooms      20,433.00      537.87      421.39       1.00      296.00   \n",
       "population          20,640.00    1,425.48    1,132.46       3.00      787.00   \n",
       "households          20,640.00      499.54      382.33       1.00      280.00   \n",
       "median_income       20,640.00        3.87        1.90       0.50        2.56   \n",
       "median_house_value  20,640.00  206,855.82  115,395.62  14,999.00  119,600.00   \n",
       "\n",
       "                           50%         75%         max  \n",
       "longitude              -118.49     -118.01     -114.31  \n",
       "latitude                 34.26       37.71       41.95  \n",
       "housing_median_age       29.00       37.00       52.00  \n",
       "total_rooms           2,127.00    3,148.00   39,320.00  \n",
       "total_bedrooms          435.00      647.00    6,445.00  \n",
       "population            1,166.00    1,725.00   35,682.00  \n",
       "households              409.00      605.00    6,082.00  \n",
       "median_income             3.53        4.74       15.00  \n",
       "median_house_value  179,700.00  264,725.00  500,001.00  "
      ]
     },
     "execution_count": 8,
     "metadata": {},
     "output_type": "execute_result"
    }
   ],
   "source": [
    "data.describe().apply(lambda x: x.apply(\"{0:,.2f}\".format)).T"
   ]
  },
  {
   "cell_type": "code",
   "execution_count": 41,
   "metadata": {},
   "outputs": [
    {
     "data": {
      "text/plain": [
       "ocean_proximity\n",
       "<1H OCEAN     9136\n",
       "INLAND        6551\n",
       "NEAR OCEAN    2658\n",
       "NEAR BAY      2290\n",
       "ISLAND           5\n",
       "Name: count, dtype: int64"
      ]
     },
     "execution_count": 41,
     "metadata": {},
     "output_type": "execute_result"
    }
   ],
   "source": [
    "data[\"ocean_proximity\"].value_counts()"
   ]
  },
  {
   "cell_type": "markdown",
   "metadata": {},
   "source": [
    "### Grid Histogram"
   ]
  },
  {
   "cell_type": "code",
   "execution_count": 31,
   "metadata": {},
   "outputs": [
    {
     "data": {
      "image/png": "[encoded data removed]",
      "text/plain": [
       "<Figure size 1170x827 with 8 Axes>"
      ]
     },
     "metadata": {},
     "output_type": "display_data"
    }
   ],
   "source": [
    "sns.set_theme(rc={\"figure.figsize\":(11.7, 8.27)})\n",
    "\n",
    "fig, axes = plt.subplots(4, 2)\n",
    "axes = axes.flatten()\n",
    "\n",
    "cols_to_plot = data.columns[2:]\n",
    "\n",
    "for num, col in enumerate(cols_to_plot):\n",
    "    ax = sns.histplot(x=data[col], ax=axes[num], kde=False)\n",
    "\n"
   ]
  },
  {
   "cell_type": "markdown",
   "metadata": {},
   "source": [
    "### Examine missing data"
   ]
  },
  {
   "cell_type": "markdown",
   "metadata": {},
   "source": [
    "- 1% of total records contains missing data on \"total_bedrooms\" column\n",
    "- No pattern found on missing data"
   ]
  },
  {
   "cell_type": "code",
   "execution_count": 50,
   "metadata": {},
   "outputs": [
    {
     "name": "stdout",
     "output_type": "stream",
     "text": [
      "Number of missing data: 207\n",
      "Proportion of missing data: 207 / 20640 = 1.0%\n"
     ]
    },
    {
     "data": {
      "text/html": [
       "<div>\n",
       "<style scoped>\n",
       "    .dataframe tbody tr th:only-of-type {\n",
       "        vertical-align: middle;\n",
       "    }\n",
       "\n",
       "    .dataframe tbody tr th {\n",
       "        vertical-align: top;\n",
       "    }\n",
       "\n",
       "    .dataframe thead th {\n",
       "        text-align: right;\n",
       "    }\n",
       "</style>\n",
       "<table border=\"1\" class=\"dataframe\">\n",
       "  <thead>\n",
       "    <tr style=\"text-align: right;\">\n",
       "      <th></th>\n",
       "      <th>longitude</th>\n",
       "      <th>latitude</th>\n",
       "      <th>housing_median_age</th>\n",
       "      <th>total_rooms</th>\n",
       "      <th>total_bedrooms</th>\n",
       "      <th>population</th>\n",
       "      <th>households</th>\n",
       "      <th>median_income</th>\n",
       "      <th>median_house_value</th>\n",
       "    </tr>\n",
       "  </thead>\n",
       "  <tbody>\n",
       "    <tr>\n",
       "      <th>count</th>\n",
       "      <td>207.00</td>\n",
       "      <td>207.00</td>\n",
       "      <td>207.00</td>\n",
       "      <td>207.00</td>\n",
       "      <td>0.00</td>\n",
       "      <td>207.00</td>\n",
       "      <td>207.00</td>\n",
       "      <td>207.00</td>\n",
       "      <td>207.00</td>\n",
       "    </tr>\n",
       "    <tr>\n",
       "      <th>mean</th>\n",
       "      <td>-119.47</td>\n",
       "      <td>35.50</td>\n",
       "      <td>29.27</td>\n",
       "      <td>2,562.60</td>\n",
       "      <td>nan</td>\n",
       "      <td>1,477.77</td>\n",
       "      <td>510.02</td>\n",
       "      <td>3.82</td>\n",
       "      <td>206,007.28</td>\n",
       "    </tr>\n",
       "    <tr>\n",
       "      <th>std</th>\n",
       "      <td>2.00</td>\n",
       "      <td>2.10</td>\n",
       "      <td>11.96</td>\n",
       "      <td>1,787.27</td>\n",
       "      <td>nan</td>\n",
       "      <td>1,057.45</td>\n",
       "      <td>386.12</td>\n",
       "      <td>1.96</td>\n",
       "      <td>111,638.21</td>\n",
       "    </tr>\n",
       "    <tr>\n",
       "      <th>min</th>\n",
       "      <td>-124.13</td>\n",
       "      <td>32.66</td>\n",
       "      <td>4.00</td>\n",
       "      <td>154.00</td>\n",
       "      <td>nan</td>\n",
       "      <td>37.00</td>\n",
       "      <td>16.00</td>\n",
       "      <td>0.85</td>\n",
       "      <td>45,800.00</td>\n",
       "    </tr>\n",
       "    <tr>\n",
       "      <th>25%</th>\n",
       "      <td>-121.81</td>\n",
       "      <td>33.97</td>\n",
       "      <td>19.00</td>\n",
       "      <td>1,307.50</td>\n",
       "      <td>nan</td>\n",
       "      <td>781.00</td>\n",
       "      <td>258.00</td>\n",
       "      <td>2.56</td>\n",
       "      <td>128,750.00</td>\n",
       "    </tr>\n",
       "    <tr>\n",
       "      <th>50%</th>\n",
       "      <td>-118.49</td>\n",
       "      <td>34.20</td>\n",
       "      <td>30.00</td>\n",
       "      <td>2,155.00</td>\n",
       "      <td>nan</td>\n",
       "      <td>1,217.00</td>\n",
       "      <td>427.00</td>\n",
       "      <td>3.41</td>\n",
       "      <td>175,000.00</td>\n",
       "    </tr>\n",
       "    <tr>\n",
       "      <th>75%</th>\n",
       "      <td>-117.98</td>\n",
       "      <td>37.49</td>\n",
       "      <td>38.00</td>\n",
       "      <td>3,465.00</td>\n",
       "      <td>nan</td>\n",
       "      <td>1,889.50</td>\n",
       "      <td>628.00</td>\n",
       "      <td>4.62</td>\n",
       "      <td>267,700.00</td>\n",
       "    </tr>\n",
       "    <tr>\n",
       "      <th>max</th>\n",
       "      <td>-114.59</td>\n",
       "      <td>40.92</td>\n",
       "      <td>52.00</td>\n",
       "      <td>11,709.00</td>\n",
       "      <td>nan</td>\n",
       "      <td>7,604.00</td>\n",
       "      <td>3,589.00</td>\n",
       "      <td>15.00</td>\n",
       "      <td>500,001.00</td>\n",
       "    </tr>\n",
       "  </tbody>\n",
       "</table>\n",
       "</div>"
      ],
      "text/plain": [
       "      longitude latitude housing_median_age total_rooms total_bedrooms  \\\n",
       "count    207.00   207.00             207.00      207.00           0.00   \n",
       "mean    -119.47    35.50              29.27    2,562.60            nan   \n",
       "std        2.00     2.10              11.96    1,787.27            nan   \n",
       "min     -124.13    32.66               4.00      154.00            nan   \n",
       "25%     -121.81    33.97              19.00    1,307.50            nan   \n",
       "50%     -118.49    34.20              30.00    2,155.00            nan   \n",
       "75%     -117.98    37.49              38.00    3,465.00            nan   \n",
       "max     -114.59    40.92              52.00   11,709.00            nan   \n",
       "\n",
       "      population households median_income median_house_value  \n",
       "count     207.00     207.00        207.00             207.00  \n",
       "mean    1,477.77     510.02          3.82         206,007.28  \n",
       "std     1,057.45     386.12          1.96         111,638.21  \n",
       "min        37.00      16.00          0.85          45,800.00  \n",
       "25%       781.00     258.00          2.56         128,750.00  \n",
       "50%     1,217.00     427.00          3.41         175,000.00  \n",
       "75%     1,889.50     628.00          4.62         267,700.00  \n",
       "max     7,604.00   3,589.00         15.00         500,001.00  "
      ]
     },
     "execution_count": 50,
     "metadata": {},
     "output_type": "execute_result"
    }
   ],
   "source": [
    "missed_data = data[data[\"total_bedrooms\"].isna()]\n",
    "\n",
    "num_missing_data = missed_data.shape[0]\n",
    "print(f\"Number of missing data: {num_missing_data}\")\n",
    "print(\n",
    "    f\"\"\"Proportion of missing data: {num_missing_data} / {data.shape[0]} = {\n",
    "        round((num_missing_data/data.shape[0]) * 100, 2)\n",
    "        }%\"\"\",\n",
    "    )\n",
    "\n",
    "missed_data.describe().apply(lambda x: x.apply(\"{0:,.2f}\".format))"
   ]
  },
  {
   "cell_type": "code",
   "execution_count": 40,
   "metadata": {},
   "outputs": [
    {
     "data": {
      "text/plain": [
       "ocean_proximity\n",
       "<1H OCEAN     102\n",
       "INLAND         55\n",
       "NEAR OCEAN     30\n",
       "NEAR BAY       20\n",
       "Name: count, dtype: int64"
      ]
     },
     "execution_count": 40,
     "metadata": {},
     "output_type": "execute_result"
    }
   ],
   "source": [
    "missed_data[\"ocean_proximity\"].value_counts()"
   ]
  },
  {
   "cell_type": "code",
   "execution_count": null,
   "metadata": {},
   "outputs": [],
   "source": []
  }
 ],
 "metadata": {
  "kernelspec": {
   "display_name": "Python 3",
   "language": "python",
   "name": "python3"
  },
  "language_info": {
   "codemirror_mode": {
    "name": "ipython",
    "version": 3
   },
   "file_extension": ".py",
   "mimetype": "text/x-python",
   "name": "python",
   "nbconvert_exporter": "python",
   "pygments_lexer": "ipython3",
   "version": "3.12.1"
  }
 },
 "nbformat": 4,
 "nbformat_minor": 2
}
